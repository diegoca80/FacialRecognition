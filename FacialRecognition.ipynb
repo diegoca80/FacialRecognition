{
 "cells": [
  {
   "cell_type": "code",
   "execution_count": 1,
   "metadata": {},
   "outputs": [
    {
     "name": "stderr",
     "output_type": "stream",
     "text": [
      "Using TensorFlow backend.\n"
     ]
    }
   ],
   "source": [
    "import pandas as pd\n",
    "import numpy as np\n",
    "import matplotlib.pyplot as plt\n",
    "%matplotlib inline\n",
    "from collections import Counter\n",
    "from keras.utils import np_utils\n",
    "from keras.models import Sequential, Model\n",
    "from keras.layers import Dense, Dropout, Activation, Flatten\n",
    "from keras.layers import Conv2D, MaxPooling2D\n",
    "\n",
    "from PIL import Image"
   ]
  },
  {
   "cell_type": "code",
   "execution_count": 2,
   "metadata": {},
   "outputs": [
    {
     "name": "stdout",
     "output_type": "stream",
     "text": [
      "Backend:        tensorflow\n",
      "Data format:    channels_first\n"
     ]
    }
   ],
   "source": [
    "import keras.backend as K\n",
    "K.set_image_data_format('channels_first')\n",
    "K.set_floatx('float32')\n",
    "print('Backend:        {}'.format(K.backend()))\n",
    "print('Data format:    {}'.format(K.image_data_format()))"
   ]
  },
  {
   "cell_type": "code",
   "execution_count": 3,
   "metadata": {
    "collapsed": true
   },
   "outputs": [],
   "source": [
    "file = pd.read_csv(\"fer2013/fer2013.csv\")"
   ]
  },
  {
   "cell_type": "code",
   "execution_count": 4,
   "metadata": {},
   "outputs": [
    {
     "data": {
      "text/html": [
       "<div>\n",
       "<style>\n",
       "    .dataframe thead tr:only-child th {\n",
       "        text-align: right;\n",
       "    }\n",
       "\n",
       "    .dataframe thead th {\n",
       "        text-align: left;\n",
       "    }\n",
       "\n",
       "    .dataframe tbody tr th {\n",
       "        vertical-align: top;\n",
       "    }\n",
       "</style>\n",
       "<table border=\"1\" class=\"dataframe\">\n",
       "  <thead>\n",
       "    <tr style=\"text-align: right;\">\n",
       "      <th></th>\n",
       "      <th>emotion</th>\n",
       "      <th>pixels</th>\n",
       "      <th>Usage</th>\n",
       "    </tr>\n",
       "  </thead>\n",
       "  <tbody>\n",
       "    <tr>\n",
       "      <th>0</th>\n",
       "      <td>0</td>\n",
       "      <td>70 80 82 72 58 58 60 63 54 58 60 48 89 115 121...</td>\n",
       "      <td>Training</td>\n",
       "    </tr>\n",
       "    <tr>\n",
       "      <th>1</th>\n",
       "      <td>0</td>\n",
       "      <td>151 150 147 155 148 133 111 140 170 174 182 15...</td>\n",
       "      <td>Training</td>\n",
       "    </tr>\n",
       "    <tr>\n",
       "      <th>2</th>\n",
       "      <td>2</td>\n",
       "      <td>231 212 156 164 174 138 161 173 182 200 106 38...</td>\n",
       "      <td>Training</td>\n",
       "    </tr>\n",
       "    <tr>\n",
       "      <th>3</th>\n",
       "      <td>4</td>\n",
       "      <td>24 32 36 30 32 23 19 20 30 41 21 22 32 34 21 1...</td>\n",
       "      <td>Training</td>\n",
       "    </tr>\n",
       "    <tr>\n",
       "      <th>4</th>\n",
       "      <td>6</td>\n",
       "      <td>4 0 0 0 0 0 0 0 0 0 0 0 3 15 23 28 48 50 58 84...</td>\n",
       "      <td>Training</td>\n",
       "    </tr>\n",
       "  </tbody>\n",
       "</table>\n",
       "</div>"
      ],
      "text/plain": [
       "   emotion                                             pixels     Usage\n",
       "0        0  70 80 82 72 58 58 60 63 54 58 60 48 89 115 121...  Training\n",
       "1        0  151 150 147 155 148 133 111 140 170 174 182 15...  Training\n",
       "2        2  231 212 156 164 174 138 161 173 182 200 106 38...  Training\n",
       "3        4  24 32 36 30 32 23 19 20 30 41 21 22 32 34 21 1...  Training\n",
       "4        6  4 0 0 0 0 0 0 0 0 0 0 0 3 15 23 28 48 50 58 84...  Training"
      ]
     },
     "execution_count": 4,
     "metadata": {},
     "output_type": "execute_result"
    }
   ],
   "source": [
    "file.head()"
   ]
  },
  {
   "cell_type": "code",
   "execution_count": 5,
   "metadata": {},
   "outputs": [
    {
     "data": {
      "text/plain": [
       "(35887, 3)"
      ]
     },
     "execution_count": 5,
     "metadata": {},
     "output_type": "execute_result"
    }
   ],
   "source": [
    "file.shape"
   ]
  },
  {
   "cell_type": "code",
   "execution_count": 6,
   "metadata": {},
   "outputs": [
    {
     "data": {
      "text/plain": [
       "array(['Training', 'PublicTest', 'PrivateTest'], dtype=object)"
      ]
     },
     "execution_count": 6,
     "metadata": {},
     "output_type": "execute_result"
    }
   ],
   "source": [
    "file[\"Usage\"].unique()"
   ]
  },
  {
   "cell_type": "code",
   "execution_count": 7,
   "metadata": {},
   "outputs": [
    {
     "data": {
      "text/plain": [
       "Training       28709\n",
       "PublicTest      3589\n",
       "PrivateTest     3589\n",
       "Name: Usage, dtype: int64"
      ]
     },
     "execution_count": 7,
     "metadata": {},
     "output_type": "execute_result"
    }
   ],
   "source": [
    "file.Usage.value_counts()"
   ]
  },
  {
   "cell_type": "code",
   "execution_count": 8,
   "metadata": {},
   "outputs": [
    {
     "data": {
      "text/plain": [
       "<matplotlib.axes._subplots.AxesSubplot at 0x9074630>"
      ]
     },
     "execution_count": 8,
     "metadata": {},
     "output_type": "execute_result"
    },
    {
     "data": {
      "image/png": "[encoded data removed]",
      "text/plain": [
       "<matplotlib.figure.Figure at 0x903fcf8>"
      ]
     },
     "metadata": {},
     "output_type": "display_data"
    }
   ],
   "source": [
    "#Imbalanced Classes\n",
    "file.emotion.hist()"
   ]
  },
  {
   "cell_type": "code",
   "execution_count": 9,
   "metadata": {},
   "outputs": [
    {
     "data": {
      "text/plain": [
       "3    8989\n",
       "6    6198\n",
       "4    6077\n",
       "2    5121\n",
       "0    4953\n",
       "5    4002\n",
       "1     547\n",
       "Name: emotion, dtype: int64"
      ]
     },
     "execution_count": 9,
     "metadata": {},
     "output_type": "execute_result"
    }
   ],
   "source": [
    "file.emotion.value_counts()"
   ]
  },
  {
   "cell_type": "code",
   "execution_count": 10,
   "metadata": {},
   "outputs": [
    {
     "data": {
      "text/plain": [
       "{0: 'Angry',\n",
       " 1: 'Disgust',\n",
       " 2: 'Fear',\n",
       " 3: 'Happy',\n",
       " 4: 'Sad',\n",
       " 5: 'Surprise',\n",
       " 6: 'Neutral'}"
      ]
     },
     "execution_count": 10,
     "metadata": {},
     "output_type": "execute_result"
    }
   ],
   "source": [
    "#0=Angry, 1=Disgust, 2=Fear, 3=Happy, 4=Sad, 5=Surprise, 6=Neutral\n",
    "dict_emo = {0: \"Angry\",\n",
    "            1: \"Disgust\",\n",
    "            2: \"Fear\",\n",
    "            3: \"Happy\",\n",
    "            4: \"Sad\",\n",
    "            5: \"Surprise\",\n",
    "            6: \"Neutral\"}\n",
    "dict_emo"
   ]
  },
  {
   "cell_type": "code",
   "execution_count": 11,
   "metadata": {},
   "outputs": [
    {
     "data": {
      "text/html": [
       "<div>\n",
       "<style>\n",
       "    .dataframe thead tr:only-child th {\n",
       "        text-align: right;\n",
       "    }\n",
       "\n",
       "    .dataframe thead th {\n",
       "        text-align: left;\n",
       "    }\n",
       "\n",
       "    .dataframe tbody tr th {\n",
       "        vertical-align: top;\n",
       "    }\n",
       "</style>\n",
       "<table border=\"1\" class=\"dataframe\">\n",
       "  <thead>\n",
       "    <tr style=\"text-align: right;\">\n",
       "      <th></th>\n",
       "      <th>emotion</th>\n",
       "      <th>pixels</th>\n",
       "      <th>Usage</th>\n",
       "    </tr>\n",
       "  </thead>\n",
       "  <tbody>\n",
       "    <tr>\n",
       "      <th>32298</th>\n",
       "      <td>0</td>\n",
       "      <td>170 118 101 88 88 75 78 82 66 74 68 59 63 64 6...</td>\n",
       "      <td>PrivateTest</td>\n",
       "    </tr>\n",
       "    <tr>\n",
       "      <th>32299</th>\n",
       "      <td>5</td>\n",
       "      <td>7 5 8 6 7 3 2 6 5 4 4 5 7 5 5 5 6 7 7 7 10 10 ...</td>\n",
       "      <td>PrivateTest</td>\n",
       "    </tr>\n",
       "    <tr>\n",
       "      <th>32300</th>\n",
       "      <td>6</td>\n",
       "      <td>232 240 241 239 237 235 246 117 24 24 22 13 12...</td>\n",
       "      <td>PrivateTest</td>\n",
       "    </tr>\n",
       "    <tr>\n",
       "      <th>32301</th>\n",
       "      <td>4</td>\n",
       "      <td>200 197 149 139 156 89 111 58 62 95 113 117 11...</td>\n",
       "      <td>PrivateTest</td>\n",
       "    </tr>\n",
       "    <tr>\n",
       "      <th>32302</th>\n",
       "      <td>2</td>\n",
       "      <td>40 28 33 56 45 33 31 78 152 194 200 186 196 20...</td>\n",
       "      <td>PrivateTest</td>\n",
       "    </tr>\n",
       "  </tbody>\n",
       "</table>\n",
       "</div>"
      ],
      "text/plain": [
       "       emotion                                             pixels        Usage\n",
       "32298        0  170 118 101 88 88 75 78 82 66 74 68 59 63 64 6...  PrivateTest\n",
       "32299        5  7 5 8 6 7 3 2 6 5 4 4 5 7 5 5 5 6 7 7 7 10 10 ...  PrivateTest\n",
       "32300        6  232 240 241 239 237 235 246 117 24 24 22 13 12...  PrivateTest\n",
       "32301        4  200 197 149 139 156 89 111 58 62 95 113 117 11...  PrivateTest\n",
       "32302        2  40 28 33 56 45 33 31 78 152 194 200 186 196 20...  PrivateTest"
      ]
     },
     "execution_count": 11,
     "metadata": {},
     "output_type": "execute_result"
    }
   ],
   "source": [
    "file[file['Usage']==\"PrivateTest\"].head()"
   ]
  },
  {
   "cell_type": "code",
   "execution_count": 12,
   "metadata": {
    "scrolled": true
   },
   "outputs": [
    {
     "data": {
      "text/plain": [
       "<matplotlib.image.AxesImage at 0xf8c9e48>"
      ]
     },
     "execution_count": 12,
     "metadata": {},
     "output_type": "execute_result"
    },
    {
     "data": {
      "image/png": "[encoded data removed]",
      "text/plain": [
       "<matplotlib.figure.Figure at 0x915c470>"
      ]
     },
     "metadata": {},
     "output_type": "display_data"
    }
   ],
   "source": [
    "image = pd.to_numeric(file.pixels[0].split())\n",
    "plt.imshow(image.reshape((48,48)),cmap='gray')"
   ]
  },
  {
   "cell_type": "code",
   "execution_count": 13,
   "metadata": {
    "collapsed": true
   },
   "outputs": [],
   "source": [
    "#Transform each \"image string\" to \"image float\", reshape to 48x48 and normalize dividing by 255\n",
    "n_samples = file.shape[0]\n",
    "images = np.zeros((n_samples,48,48))\n",
    "\n",
    "for i in range(n_samples):\n",
    "    images[i] = np.fromstring(file['pixels'][i], dtype=float, sep=' ').reshape(48, 48)\n",
    "\n",
    "images = images.reshape(n_samples,-1)\n",
    "images /=255.\n",
    "#reshape to default format(n_samples,channel,w,h)\n",
    "images = images.reshape((n_samples,1,48,48))"
   ]
  },
  {
   "cell_type": "code",
   "execution_count": 14,
   "metadata": {},
   "outputs": [
    {
     "data": {
      "text/plain": [
       "(35887, 1, 48, 48)"
      ]
     },
     "execution_count": 14,
     "metadata": {},
     "output_type": "execute_result"
    }
   ],
   "source": [
    "images.shape"
   ]
  },
  {
   "cell_type": "code",
   "execution_count": 15,
   "metadata": {},
   "outputs": [
    {
     "data": {
      "image/png": "[encoded data removed]",
      "text/plain": [
       "<matplotlib.figure.Figure at 0x915cdd8>"
      ]
     },
     "metadata": {},
     "output_type": "display_data"
    }
   ],
   "source": [
    "fig = plt.figure(figsize=(15,6))\n",
    "for i,x in enumerate(images):\n",
    "    #print(i,x.reshape(48,48))\n",
    "    if i<8:\n",
    "        fig.add_subplot(2,4, i+1)\n",
    "        plt.imshow(x.reshape(48,48), cmap='gray')\n",
    "        plt.title(dict_emo[file.emotion[i]])"
   ]
  },
  {
   "cell_type": "markdown",
   "metadata": {},
   "source": [
    "## Dividing data in 3 sets"
   ]
  },
  {
   "cell_type": "code",
   "execution_count": 16,
   "metadata": {
    "collapsed": true
   },
   "outputs": [],
   "source": [
    "#Train\n",
    "train = file[file['Usage']==\"Training\"]\n",
    "y_train = train.emotion #debug"
   ]
  },
  {
   "cell_type": "code",
   "execution_count": 17,
   "metadata": {},
   "outputs": [
    {
     "data": {
      "text/plain": [
       "(28709, 1, 48, 48)"
      ]
     },
     "execution_count": 17,
     "metadata": {},
     "output_type": "execute_result"
    }
   ],
   "source": [
    "X_train = images[:train.shape[0]]\n",
    "X_train.shape"
   ]
  },
  {
   "cell_type": "code",
   "execution_count": 18,
   "metadata": {},
   "outputs": [
    {
     "data": {
      "text/plain": [
       "(3589,)"
      ]
     },
     "execution_count": 18,
     "metadata": {},
     "output_type": "execute_result"
    }
   ],
   "source": [
    "#Test\n",
    "test = file[file['Usage']==\"PublicTest\"]\n",
    "y_test = test.emotion\n",
    "y_test.shape"
   ]
  },
  {
   "cell_type": "code",
   "execution_count": 19,
   "metadata": {
    "collapsed": true
   },
   "outputs": [],
   "source": [
    "min_t = test.index.values.min()\n",
    "max_t = test.index.values.max()"
   ]
  },
  {
   "cell_type": "code",
   "execution_count": 20,
   "metadata": {},
   "outputs": [
    {
     "data": {
      "text/plain": [
       "(3589, 1, 48, 48)"
      ]
     },
     "execution_count": 20,
     "metadata": {},
     "output_type": "execute_result"
    }
   ],
   "source": [
    "X_test = images[min_t:max_t+1]\n",
    "X_test.shape"
   ]
  },
  {
   "cell_type": "code",
   "execution_count": 21,
   "metadata": {},
   "outputs": [
    {
     "data": {
      "text/plain": [
       "(3589,)"
      ]
     },
     "execution_count": 21,
     "metadata": {},
     "output_type": "execute_result"
    }
   ],
   "source": [
    "#Validation\n",
    "val = file[file['Usage']==\"PrivateTest\"]\n",
    "y_val = val.emotion\n",
    "y_val.shape"
   ]
  },
  {
   "cell_type": "code",
   "execution_count": 22,
   "metadata": {
    "collapsed": true
   },
   "outputs": [],
   "source": [
    "min_v = val.index.values.min()\n",
    "max_v = val.index.values.max()"
   ]
  },
  {
   "cell_type": "code",
   "execution_count": 23,
   "metadata": {},
   "outputs": [
    {
     "data": {
      "text/plain": [
       "(3589, 1, 48, 48)"
      ]
     },
     "execution_count": 23,
     "metadata": {},
     "output_type": "execute_result"
    }
   ],
   "source": [
    "X_val = images[min_v:]\n",
    "X_val.shape"
   ]
  },
  {
   "cell_type": "code",
   "execution_count": 24,
   "metadata": {},
   "outputs": [],
   "source": [
    "#Just execute this cell to debug purposes, choosing a number of samples in debug(n_samples)\n",
    "def debug(qtde):\n",
    "    q_t = int(qtde*0.1)\n",
    "    y_train = train[:qtde].emotion\n",
    "    X_train = images[:qtde]\n",
    "    y_test = test[:q_t].emotion\n",
    "    X_test = images[min_t:min_t+q_t]\n",
    "    y_val = val[:q_t].emotion\n",
    "    X_val = images[min_v:min_v+q_t]\n",
    "    print (y_train.shape,X_train.shape,y_test.shape,X_test.shape,y_val.shape,X_val.shape)\n",
    "    return y_train,X_train,y_test,X_test,y_val,X_val\n",
    "        \n",
    "#y_train,X_train,y_test,X_test,y_val,X_val = debug(100)"
   ]
  },
  {
   "cell_type": "markdown",
   "metadata": {},
   "source": [
    "## One-hot encoding"
   ]
  },
  {
   "cell_type": "code",
   "execution_count": 25,
   "metadata": {},
   "outputs": [
    {
     "name": "stdout",
     "output_type": "stream",
     "text": [
      "(28709, 7) (3589, 7) (3589, 7)\n"
     ]
    }
   ],
   "source": [
    "def one_hot(y_train,y_test,y_val):\n",
    "    y_train_oh = np_utils.to_categorical(y_train)\n",
    "    y_test_oh = np_utils.to_categorical(y_test)\n",
    "    y_val_oh = np_utils.to_categorical(y_val)\n",
    "    print (y_train_oh.shape,y_test_oh.shape,y_val_oh.shape)\n",
    "    return y_train_oh,y_test_oh,y_val_oh\n",
    "    \n",
    "y_train_oh,y_test_oh,y_val_oh = one_hot(y_train,y_test,y_val)"
   ]
  },
  {
   "cell_type": "markdown",
   "metadata": {},
   "source": [
    "## CNN"
   ]
  },
  {
   "cell_type": "code",
   "execution_count": 26,
   "metadata": {},
   "outputs": [
    {
     "name": "stdout",
     "output_type": "stream",
     "text": [
      "_________________________________________________________________\n",
      "Layer (type)                 Output Shape              Param #   \n",
      "=================================================================\n",
      "conv2d_1 (Conv2D)            (None, 32, 46, 46)        320       \n",
      "_________________________________________________________________\n",
      "activation_1 (Activation)    (None, 32, 46, 46)        0         \n",
      "_________________________________________________________________\n",
      "max_pooling2d_1 (MaxPooling2 (None, 32, 23, 23)        0         \n",
      "_________________________________________________________________\n",
      "conv2d_2 (Conv2D)            (None, 32, 21, 21)        9248      \n",
      "_________________________________________________________________\n",
      "activation_2 (Activation)    (None, 32, 21, 21)        0         \n",
      "_________________________________________________________________\n",
      "max_pooling2d_2 (MaxPooling2 (None, 32, 10, 10)        0         \n",
      "_________________________________________________________________\n",
      "conv2d_3 (Conv2D)            (None, 32, 8, 8)          9248      \n",
      "_________________________________________________________________\n",
      "activation_3 (Activation)    (None, 32, 8, 8)          0         \n",
      "_________________________________________________________________\n",
      "max_pooling2d_3 (MaxPooling2 (None, 32, 4, 4)          0         \n",
      "_________________________________________________________________\n",
      "dropout_1 (Dropout)          (None, 32, 4, 4)          0         \n",
      "_________________________________________________________________\n",
      "flatten_1 (Flatten)          (None, 512)               0         \n",
      "_________________________________________________________________\n",
      "dense_1 (Dense)              (None, 128)               65664     \n",
      "_________________________________________________________________\n",
      "activation_4 (Activation)    (None, 128)               0         \n",
      "_________________________________________________________________\n",
      "dropout_2 (Dropout)          (None, 128)               0         \n",
      "_________________________________________________________________\n",
      "dense_2 (Dense)              (None, 7)                 903       \n",
      "_________________________________________________________________\n",
      "activation_5 (Activation)    (None, 7)                 0         \n",
      "=================================================================\n",
      "Total params: 85,383\n",
      "Trainable params: 85,383\n",
      "Non-trainable params: 0\n",
      "_________________________________________________________________\n"
     ]
    }
   ],
   "source": [
    "def model_build(nb_classes = 7):\n",
    "    img_rows, img_cols = 48, 48 # Dimensões das imagens\n",
    "    input_shape = (1, img_rows, img_cols)\n",
    "\n",
    "    # Definindo a rede\n",
    "    model = Sequential()\n",
    "    model.add(Conv2D(32, (3, 3), input_shape=input_shape))\n",
    "    model.add(Activation('relu'))\n",
    "    model.add(MaxPooling2D(pool_size=(2,2)))\n",
    "    \n",
    "    model.add(Conv2D(32,(3,3)))\n",
    "    model.add(Activation('relu'))\n",
    "    model.add(MaxPooling2D(pool_size=(2,2)))\n",
    "    \n",
    "    model.add(Conv2D(32,(3,3)))\n",
    "    model.add(Activation('relu'))\n",
    "    model.add(MaxPooling2D(pool_size=(2,2)))\n",
    "    \n",
    "    model.add(Dropout(0.5))\n",
    "\n",
    "    # Aqui os features deixam de ser imagens\n",
    "    model.add(Flatten())\n",
    "    model.add(Dense(128))\n",
    "    model.add(Activation('relu'))\n",
    "    model.add(Dropout(0.5))\n",
    "    model.add(Dense(nb_classes))\n",
    "    model.add(Activation('softmax'))\n",
    "    return model\n",
    "\n",
    "model = model_build()\n",
    "model.summary()"
   ]
  },
  {
   "cell_type": "code",
   "execution_count": 27,
   "metadata": {
    "collapsed": true
   },
   "outputs": [],
   "source": [
    "# Compile model\n",
    "model.compile(loss='categorical_crossentropy', optimizer='adam', metrics=['accuracy'])"
   ]
  },
  {
   "cell_type": "code",
   "execution_count": 28,
   "metadata": {
    "collapsed": true
   },
   "outputs": [],
   "source": [
    "from keras.callbacks import EarlyStopping, ModelCheckpoint, ReduceLROnPlateau\n",
    "\n",
    "# Set a learning rate annealer\n",
    "learning_rate_reduction = ReduceLROnPlateau(monitor='val_acc', \n",
    "                                            patience=5, \n",
    "                                            verbose=1, \n",
    "                                            factor=0.5, \n",
    "                                            min_lr=0.0001)\n",
    "\n",
    "# define early stopping callback\n",
    "earlystop = EarlyStopping(monitor='val_acc', \n",
    "                          patience=5, \n",
    "                          verbose=1, \n",
    "                          mode='auto')\n",
    "\n",
    "# checkpoint\n",
    "filepath=\"weights{}.best.hdf5\".format(y_train.shape[0])\n",
    "checkpoint = ModelCheckpoint(filepath, monitor='val_acc', verbose=1, save_best_only=True, mode='max')"
   ]
  },
  {
   "cell_type": "code",
   "execution_count": 29,
   "metadata": {},
   "outputs": [],
   "source": [
    "batch_size=32\n",
    "epochs=100\n",
    "\n",
    "#To train the CNN again, please uncomment this line\n",
    "#model.fit(X_train, y_train_oh, batch_size=batch_size, validation_data=(X_val, y_val_oh), epochs=epochs, callbacks=[learning_rate_reduction, earlystop, checkpoint], verbose=1)# validation_data=(X_test, y_test))\n",
    "\n",
    "#model.fit(x_train, y_train_oh, batch_size=batch_size, validation_data=(X_test, y_test_oh), epochs=epochs,callbacks=[learning_rate_reduction, earlystop, checkpoint], verbose=1)# validation_data=(X_test, y_test))"
   ]
  },
  {
   "cell_type": "code",
   "execution_count": 30,
   "metadata": {
    "collapsed": true
   },
   "outputs": [],
   "source": [
    "# load weights\n",
    "\n",
    "model.load_weights(\"weights28709.best.hdf5\")"
   ]
  },
  {
   "cell_type": "code",
   "execution_count": 31,
   "metadata": {},
   "outputs": [
    {
     "name": "stdout",
     "output_type": "stream",
     "text": [
      "3589/3589 [==============================] - 29s    \n",
      "\n",
      "[INFO] accuracy on the test data set: 55.42% [1.19965]\n"
     ]
    }
   ],
   "source": [
    "loss, accuracy = model.evaluate(X_test, y_test_oh, batch_size=128, verbose=1)\n",
    "print(\"\\n[INFO] accuracy on the test data set: {:.2f}% [{:.5f}]\".format(accuracy * 100, loss))"
   ]
  },
  {
   "cell_type": "code",
   "execution_count": 32,
   "metadata": {},
   "outputs": [
    {
     "name": "stdout",
     "output_type": "stream",
     "text": [
      "Rótulos conj. teste: 28709    0\n",
      "28710    1\n",
      "28711    4\n",
      "28712    6\n",
      "28713    3\n",
      "28714    3\n",
      "28715    2\n",
      "28716    0\n",
      "28717    2\n",
      "28718    0\n",
      "Name: emotion, dtype: int64\n",
      "Rótulos previstos:   [4 4 0 4 3 3 4 4 4 2]\n",
      "probabilidades:\n",
      " [ 0.29074955  0.24041107  0.46895459  0.26133901  0.96599889  0.7766161\n",
      "  0.30736306  0.318376    0.4211939   0.35882288]\n"
     ]
    }
   ],
   "source": [
    "print('Rótulos conj. teste:',y_test[:10])\n",
    "\n",
    "y_hat = model.predict_classes(X_test[:10],verbose=0)\n",
    "print('Rótulos previstos:  ',y_hat[:10])\n",
    "\n",
    "y_prob = model.predict_proba(X_test[:10],verbose=0)\n",
    "print('probabilidades:\\n',y_prob.max(axis=1))"
   ]
  },
  {
   "cell_type": "code",
   "execution_count": 33,
   "metadata": {},
   "outputs": [
    {
     "name": "stdout",
     "output_type": "stream",
     "text": [
      "Acurácia: 0.554193368626\n"
     ]
    }
   ],
   "source": [
    "y_prob = model.predict_proba(X_test,verbose=0).max(axis=1)\n",
    "y_hat = model.predict_classes(X_test,verbose=0)\n",
    "acc = (y_hat == y_test).sum()/y_hat.size\n",
    "print('Acurácia:', acc)"
   ]
  },
  {
   "cell_type": "code",
   "execution_count": 36,
   "metadata": {},
   "outputs": [
    {
     "data": {
      "text/plain": [
       "array([4, 4, 0, ..., 2, 4, 6], dtype=int64)"
      ]
     },
     "execution_count": 36,
     "metadata": {},
     "output_type": "execute_result"
    }
   ],
   "source": [
    "y_hat"
   ]
  },
  {
   "cell_type": "code",
   "execution_count": 69,
   "metadata": {
    "scrolled": true
   },
   "outputs": [
    {
     "data": {
      "image/png": "[encoded data removed]",
      "text/plain": [
       "<matplotlib.figure.Figure at 0x4ddb2ef0>"
      ]
     },
     "metadata": {},
     "output_type": "display_data"
    }
   ],
   "source": [
    "fig = plt.figure(figsize=(15,6))\n",
    "for i,x in enumerate(X_test):\n",
    "    #print(i,x.reshape(48,48))\n",
    "    if i<10:\n",
    "        fig.add_subplot(2,5, i+1)\n",
    "        plt.imshow(x.reshape(48,48), cmap='gray')\n",
    "        plt.title(\"Label: \" + dict_emo[y_test[i+28709]] + \" - Pred: \" + dict_emo[y_hat[i]])"
   ]
  },
  {
   "cell_type": "code",
   "execution_count": null,
   "metadata": {
    "collapsed": true
   },
   "outputs": [],
   "source": [
    "#From https://www.superdatascience.com/opencv-face-detection/"
   ]
  },
  {
   "cell_type": "code",
   "execution_count": 41,
   "metadata": {
    "collapsed": true
   },
   "outputs": [],
   "source": [
    "#import required libraries \n",
    "#import OpenCV library\n",
    "import cv2\n",
    "#import matplotlib library\n",
    "import matplotlib.pyplot as plt\n",
    "#importing time library for speed comparisons of both classifiers\n",
    "import time \n",
    "%matplotlib inline"
   ]
  },
  {
   "cell_type": "code",
   "execution_count": 64,
   "metadata": {
    "collapsed": true
   },
   "outputs": [],
   "source": [
    "def convertToRGB(img):\n",
    "    return cv2.cvtColor(img, cv2.COLOR_BGR2RGB)\n",
    "def convertToGray(img):\n",
    "    return cv2.cvtColor(img, cv2.COLOR_BGR2GRAY)"
   ]
  },
  {
   "cell_type": "code",
   "execution_count": 43,
   "metadata": {},
   "outputs": [
    {
     "data": {
      "text/plain": [
       "<matplotlib.image.AxesImage at 0x240a82b4e80>"
      ]
     },
     "execution_count": 43,
     "metadata": {},
     "output_type": "execute_result"
    },
    {
     "data": {
      "image/png": "[encoded data removed]",
      "text/plain": [
       "<matplotlib.figure.Figure at 0x240a845b6d8>"
      ]
     },
     "metadata": {},
     "output_type": "display_data"
    }
   ],
   "source": [
    "img = cv2.imread('opencv_frame_0.png')\n",
    "gray_img = convertToGray(img)\n",
    "plt.imshow(gray_img,cmap='gray')"
   ]
  },
  {
   "cell_type": "code",
   "execution_count": 44,
   "metadata": {},
   "outputs": [
    {
     "data": {
      "text/plain": [
       "(480, 640)"
      ]
     },
     "execution_count": 44,
     "metadata": {},
     "output_type": "execute_result"
    }
   ],
   "source": [
    "gray_img.shape"
   ]
  },
  {
   "cell_type": "code",
   "execution_count": null,
   "metadata": {
    "collapsed": true
   },
   "outputs": [],
   "source": [
    "#Show the image\n",
    "cv2.imshow('Test Imag', gray_img) \n",
    "cv2.waitKey(0) \n",
    "cv2.destroyAllWindows()"
   ]
  },
  {
   "cell_type": "code",
   "execution_count": null,
   "metadata": {
    "collapsed": true
   },
   "outputs": [],
   "source": [
    "#load cascade classifier training file for haarcascade \n",
    "haar_face_cascade = cv2.CascadeClassifier('haarcascade_frontalface_alt.xml')"
   ]
  },
  {
   "cell_type": "code",
   "execution_count": null,
   "metadata": {
    "collapsed": true
   },
   "outputs": [],
   "source": [
    "#let's detect multiscale (some images may be closer to camera than others) images \n",
    "faces = haar_face_cascade.detectMultiScale(gray_img, scaleFactor=1.1, minNeighbors=5);\n",
    "\n",
    "#print the number of faces found \n",
    "print(\"Faces found: \", len(faces))"
   ]
  },
  {
   "cell_type": "code",
   "execution_count": null,
   "metadata": {
    "collapsed": true
   },
   "outputs": [],
   "source": [
    "#go over list of faces and draw them as rectangles on original colored \n",
    "for (x, y, w, h) in faces:\n",
    "    cv2.rectangle(img, (x, y), (x+w, y+h), (0, 255, 0), 2)"
   ]
  },
  {
   "cell_type": "code",
   "execution_count": null,
   "metadata": {
    "collapsed": true
   },
   "outputs": [],
   "source": [
    "#convert image to RGB and show image \n",
    "plt.imshow(convertToRGB(img))"
   ]
  },
  {
   "cell_type": "code",
   "execution_count": null,
   "metadata": {
    "collapsed": true
   },
   "outputs": [],
   "source": [
    "crop_img = img[y: y+h, x: x+w]\n",
    "cv2.imwrite(\"face.png\",crop_img)"
   ]
  },
  {
   "cell_type": "code",
   "execution_count": null,
   "metadata": {
    "collapsed": true
   },
   "outputs": [],
   "source": [
    "img = cv2.imread('face.png')\n",
    "gray_img = convertToGray(img)\n",
    "plt.imshow(gray_img,cmap='gray')\n",
    "gray_img.shape"
   ]
  },
  {
   "cell_type": "code",
   "execution_count": null,
   "metadata": {
    "collapsed": true
   },
   "outputs": [],
   "source": [
    "img_out = cv2.resize(gray_img,(48,48),interpolation = cv2.INTER_CUBIC)"
   ]
  },
  {
   "cell_type": "code",
   "execution_count": null,
   "metadata": {
    "collapsed": true
   },
   "outputs": [],
   "source": [
    "img_out.shape"
   ]
  },
  {
   "cell_type": "code",
   "execution_count": null,
   "metadata": {
    "collapsed": true
   },
   "outputs": [],
   "source": [
    "predicted_image = model.predict_classes(img_out.reshape(1,1,48,48),verbose=0)"
   ]
  },
  {
   "cell_type": "code",
   "execution_count": null,
   "metadata": {
    "collapsed": true
   },
   "outputs": [],
   "source": [
    "dict_emo[predicted_image[0]]"
   ]
  },
  {
   "cell_type": "code",
   "execution_count": null,
   "metadata": {
    "collapsed": true
   },
   "outputs": [],
   "source": []
  },
  {
   "cell_type": "code",
   "execution_count": null,
   "metadata": {
    "collapsed": true
   },
   "outputs": [],
   "source": []
  },
  {
   "cell_type": "code",
   "execution_count": null,
   "metadata": {
    "collapsed": true
   },
   "outputs": [],
   "source": []
  },
  {
   "cell_type": "code",
   "execution_count": 36,
   "metadata": {
    "collapsed": true
   },
   "outputs": [],
   "source": [
    "def convertToRGB(img):\n",
    "    return cv2.cvtColor(img, cv2.COLOR_BGR2RGB)\n",
    "def convertToGray(img):\n",
    "    return cv2.cvtColor(img, cv2.COLOR_BGR2GRAY)"
   ]
  },
  {
   "cell_type": "code",
   "execution_count": 57,
   "metadata": {},
   "outputs": [
    {
     "name": "stdout",
     "output_type": "stream",
     "text": [
      "(480, 640, 3)\n",
      "Faces found:  0\n",
      "Fear\n",
      "[[  1.12046802e-03   8.53908003e-12   9.98879492e-01   1.13780578e-29\n",
      "    3.68988035e-11   1.44822410e-09   3.16684157e-12]]\n",
      "(480, 640, 3)\n",
      "Faces found:  0\n",
      "Fear\n",
      "[[  4.65997234e-02   3.08716212e-11   9.53400314e-01   1.75516113e-26\n",
      "    2.12535101e-10   1.14109220e-08   2.65427905e-11]]\n",
      "(480, 640, 3)\n",
      "Faces found:  0\n",
      "Fear\n",
      "[[  2.45669435e-05   1.68475164e-11   9.99975443e-01   8.98377047e-26\n",
      "    2.97538938e-10   5.76965613e-13   5.04786317e-12]]\n",
      "(480, 640, 3)\n",
      "Faces found:  0\n",
      "Fear\n",
      "[[  6.20322709e-04   1.28857827e-11   9.99379635e-01   6.02953880e-22\n",
      "    2.99218961e-08   3.36468375e-12   4.38884817e-10]]\n",
      "(480, 640, 3)\n",
      "Faces found:  0\n",
      "Fear\n",
      "[[  9.01684616e-05   1.15468605e-12   9.99909878e-01   5.55243631e-26\n",
      "    3.29513722e-10   6.23531955e-12   1.20999738e-11]]\n",
      "(480, 640, 3)\n",
      "Faces found:  0\n",
      "Fear\n",
      "[[  7.94081643e-06   4.41326031e-10   9.99992013e-01   1.67518942e-22\n",
      "    1.15134569e-08   1.65151337e-10   7.25234928e-10]]\n",
      "(480, 640, 3)\n",
      "Faces found:  0\n",
      "Fear\n",
      "[[  1.63842669e-05   7.20812028e-13   9.99983668e-01   4.12800730e-25\n",
      "    7.48978324e-10   5.80701990e-13   5.60188441e-12]]\n",
      "(480, 640, 3)\n",
      "Faces found:  0\n",
      "Fear\n",
      "[[  5.86591250e-06   7.06198858e-12   9.99994159e-01   8.10182061e-22\n",
      "    6.28240215e-09   2.84303137e-10   1.01655448e-10]]\n",
      "(480, 640, 3)\n",
      "Faces found:  0\n",
      "Fear\n",
      "[[  1.83257143e-04   3.44605411e-08   9.99816716e-01   3.11384876e-24\n",
      "    4.91012102e-08   1.18688515e-09   3.29409655e-09]]\n",
      "(480, 640, 3)\n",
      "Faces found:  0\n",
      "Fear\n",
      "[[  1.05710635e-04   8.71320377e-12   9.99894261e-01   2.66536945e-25\n",
      "    1.79357995e-09   7.89262058e-12   4.57390098e-10]]\n",
      "(480, 640, 3)\n",
      "Faces found:  0\n",
      "Fear\n",
      "[[  4.06443235e-03   1.32950211e-08   9.95935559e-01   1.92768208e-26\n",
      "    4.21216200e-08   1.72612669e-09   2.37288464e-08]]\n",
      "(480, 640, 3)\n",
      "Faces found:  0\n",
      "Fear\n",
      "[[  2.08041718e-04   2.21948553e-11   9.99791920e-01   2.38581148e-22\n",
      "    1.68095973e-08   1.45718819e-11   1.18232790e-09]]\n",
      "(480, 640, 3)\n",
      "Faces found:  0\n",
      "Fear\n",
      "[[  1.65009420e-04   5.45464507e-11   9.99835014e-01   3.84868236e-24\n",
      "    3.99377598e-09   4.65402404e-11   1.33831085e-10]]\n",
      "(480, 640, 3)\n",
      "Faces found:  0\n",
      "Fear\n",
      "[[  8.41826331e-05   2.05539977e-11   9.99915838e-01   2.19960867e-24\n",
      "    1.65658829e-08   6.67418204e-11   4.82556217e-10]]\n",
      "(480, 640, 3)\n",
      "Faces found:  0\n",
      "Fear\n",
      "[[  3.36577637e-06   1.40024483e-12   9.99996662e-01   4.57923127e-29\n",
      "    4.45948764e-11   5.21486473e-14   2.55719030e-13]]\n",
      "(480, 640, 3)\n",
      "Faces found:  0\n",
      "Fear\n",
      "[[  7.39623938e-05   8.86049845e-11   9.99926090e-01   6.94844940e-27\n",
      "    3.56045082e-10   3.13352512e-12   7.41452472e-12]]\n",
      "(480, 640, 3)\n",
      "Faces found:  0\n",
      "Fear\n",
      "[[  1.09750808e-05   6.34881077e-14   9.99989033e-01   1.08497086e-26\n",
      "    2.94272176e-11   1.82522048e-14   1.26862095e-12]]\n",
      "(480, 640, 3)\n",
      "Faces found:  0\n",
      "Fear\n",
      "[[  5.27696466e-05   3.18686245e-12   9.99947190e-01   2.72758113e-29\n",
      "    9.88167447e-12   1.03736149e-12   1.57292026e-13]]\n",
      "(480, 640, 3)\n",
      "Faces found:  0\n",
      "Fear\n",
      "[[  2.82496967e-05   5.45016723e-12   9.99971747e-01   4.51737561e-26\n",
      "    1.73509915e-10   2.23185917e-13   1.65602352e-12]]\n",
      "(480, 640, 3)\n",
      "Faces found:  0\n",
      "Fear\n",
      "[[  6.85073655e-06   8.29587457e-14   9.99993205e-01   4.04154443e-29\n",
      "    2.44810023e-11   1.14500922e-12   2.09380920e-13]]\n",
      "(480, 640, 3)\n",
      "Faces found:  0\n",
      "Fear\n",
      "[[  6.85420036e-06   1.15221404e-13   9.99993205e-01   1.62974524e-29\n",
      "    6.10717865e-10   1.89783410e-12   3.54786643e-12]]\n",
      "(480, 640, 3)\n",
      "Faces found:  0\n",
      "Fear\n",
      "[[  4.91385981e-06   1.44489713e-13   9.99995112e-01   2.42781781e-29\n",
      "    1.61956507e-11   4.35350595e-13   5.27029538e-13]]\n",
      "(480, 640, 3)\n",
      "Faces found:  0\n",
      "Fear\n",
      "[[  4.31837393e-08   1.21618427e-12   1.00000000e+00   1.00225984e-32\n",
      "    1.60987945e-09   9.43180395e-11   5.01333176e-11]]\n",
      "(480, 640, 3)\n",
      "Faces found:  0\n",
      "Fear\n",
      "[[  3.85303733e-11   3.37285012e-17   9.99999881e-01   1.38536413e-13\n",
      "    6.89910920e-08   3.39993200e-10   1.54546864e-08]]\n",
      "(480, 640, 3)\n",
      "Faces found:  0\n",
      "Fear\n",
      "[[  1.56757315e-10   5.13979220e-19   9.99990702e-01   6.09706119e-10\n",
      "    8.58805743e-06   6.67305544e-10   6.57331327e-07]]\n",
      "(480, 640, 3)\n",
      "Faces found:  0\n",
      "Fear\n",
      "[[  1.32753269e-06   6.04313902e-22   9.99847293e-01   2.96896917e-11\n",
      "    9.58205277e-29   1.51419124e-04   1.03892471e-35]]\n",
      "(480, 640, 3)\n",
      "Faces found:  1\n",
      "Surprise\n",
      "[[  5.45537230e-32   0.00000000e+00   3.88814710e-23   5.69190172e-37\n",
      "    0.00000000e+00   1.00000000e+00   1.52334769e-29]]\n",
      "(480, 640, 3)\n",
      "Faces found:  1\n",
      "Surprise\n",
      "[[  1.20491884e-03   1.70787795e-14   4.62145992e-02   7.47683691e-15\n",
      "    6.92415553e-15   9.52580512e-01   3.57955722e-12]]\n",
      "(480, 640, 3)\n",
      "Faces found:  1\n",
      "Surprise\n",
      "[[  8.03670846e-04   1.61766559e-20   4.53349113e-01   1.19186302e-14\n",
      "    1.31219415e-23   5.45847178e-01   4.47935486e-25]]\n",
      "(480, 640, 3)\n",
      "Faces found:  1\n",
      "Angry\n",
      "[[  8.39718163e-01   6.01329137e-17   3.44164716e-03   3.31484819e-14\n",
      "    2.36816872e-19   1.56840280e-01   5.62022984e-16]]\n",
      "(480, 640, 3)\n",
      "Faces found:  1\n",
      "Surprise\n",
      "[[  1.31401643e-01   6.90405849e-13   8.71658698e-03   2.04512466e-18\n",
      "    4.99207422e-15   8.59881699e-01   3.51729063e-11]]\n",
      "(480, 640, 3)\n",
      "Faces found:  1\n",
      "Fear\n",
      "[[  3.03848237e-01   2.38785999e-16   6.78387761e-01   1.17108417e-13\n",
      "    8.03104602e-03   2.17182496e-05   9.71117895e-03]]\n",
      "(480, 640, 3)\n",
      "Faces found:  1\n",
      "Surprise\n",
      "[[  4.25411295e-03   1.78123410e-05   4.32407478e-06   7.91831201e-30\n",
      "    5.32380098e-20   9.95723724e-01   2.48487253e-19]]\n",
      "(480, 640, 3)\n",
      "Faces found:  0\n",
      "Surprise\n",
      "[[  1.36992341e-07   8.10927761e-25   6.11416064e-03   8.10299753e-07\n",
      "    9.80243483e-23   9.93884861e-01   3.09761166e-21]]\n",
      "Escape hit, closing...\n"
     ]
    }
   ],
   "source": [
    "import cv2\n",
    "import time\n",
    "\n",
    "cam = cv2.VideoCapture(0)\n",
    "\n",
    "#cv2.namedWindow(\"test\") \n",
    "#cv2.namedWindow(\"test2\")\n",
    "\n",
    "img_counter = 0\n",
    "count = 0\n",
    "frame_name = []\n",
    "\n",
    "while True:\n",
    "    ret, frame = cam.read()\n",
    "    #cv2.imshow(\"test\", frame)    \n",
    "    #cv2.imshow(\"test2\", frame)\n",
    "    \n",
    "    if not ret:\n",
    "        break\n",
    "    k = cv2.waitKey(1)\n",
    "\n",
    "    if k%256 == 27: \n",
    "        # ESC pressed\n",
    "        print(\"Escape hit, closing...\")\n",
    "        break\n",
    "    else:# k%256 == 32:\n",
    "        print(frame.shape)\n",
    "        \n",
    "        gray_img = convertToGray(frame)\n",
    "        #plt.imshow(gray_img,cmap='gray')\n",
    "        #cv2.imshow(\"teste2\", gray_img)\n",
    "        \n",
    "        haar_face_cascade = cv2.CascadeClassifier('haarcascade_frontalface_alt.xml')\n",
    "        faces = haar_face_cascade.detectMultiScale(gray_img, scaleFactor=1.1, minNeighbors=5);\n",
    "        #print the number of faces found                 \n",
    "        print(\"Faces found: \", len(faces))\n",
    "        \n",
    "        for (x, y, w, h) in faces:\n",
    "            cv2.rectangle(frame, (x, y), (x+w, y+h), (0, 255, 0), 2)\n",
    "        #cv2.imshow(\"test2\", frame)\n",
    "        \n",
    "        crop_img = frame[y: y+h, x: x+w]\n",
    "        cv2.imwrite(\"face.png\",crop_img)\n",
    "        #cv2.imshow(\"test2\", crop_img )\n",
    "        \n",
    "        gray_img = convertToGray(crop_img)\n",
    "        img_out = cv2.resize(gray_img,(48,48),interpolation = cv2.INTER_CUBIC)\n",
    "        cv2.imshow(\"test2\", img_out)\n",
    "        \n",
    "        predicted_image = model.predict_classes(img_out.reshape(1,1,48,48),verbose=0)\n",
    "        emotion = dict_emo[predicted_image[0]]\n",
    "        print (emotion)\n",
    "        y_prob = model.predict_proba(img_out.reshape(1,1,48,48),verbose=0)\n",
    "        print(y_prob)\n",
    "        \n",
    "        font = cv2.FONT_HERSHEY_SIMPLEX\n",
    "        #x = 10 #position of text\n",
    "        #y = 20 #position of text\n",
    "        cv2.putText(frame,emotion, (x+ int(w/3),y-5),font,0.55,(0,255,0),1) #Draw the text\n",
    "        cv2.imshow(\"test3\", frame)\n",
    "        \n",
    "        #time.sleep(2)\n",
    "        # SPACE pressed                      \n",
    "        #img_name = \"opencv_frame_{}.png\".format(img_co unter)\n",
    "        #cv2.imwrite(img_name, frame)\n",
    "        #print(\"{} written!\".format(img_name))\n",
    "        #img_counter += 1\n",
    "\n",
    "cam.release()\n",
    "\n",
    "cv2.destroyAllWindows()"
   ]
  },
  {
   "cell_type": "code",
   "execution_count": null,
   "metadata": {
    "collapsed": true
   },
   "outputs": [],
   "source": []
  }
 ],
 "metadata": {
  "anaconda-cloud": {},
  "kernelspec": {
   "display_name": "Python 3",
   "language": "python",
   "name": "python3"
  },
  "language_info": {
   "codemirror_mode": {
    "name": "ipython",
    "version": 3
   },
   "file_extension": ".py",
   "mimetype": "text/x-python",
   "name": "python",
   "nbconvert_exporter": "python",
   "pygments_lexer": "ipython3",
   "version": "3.6.1"
  }
 },
 "nbformat": 4,
 "nbformat_minor": 1
}
